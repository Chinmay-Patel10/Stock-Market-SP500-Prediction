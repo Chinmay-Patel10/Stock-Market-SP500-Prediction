{
 "cells": [
  {
   "cell_type": "code",
   "execution_count": 51,
   "metadata": {},
   "outputs": [],
   "source": [
    "import yfinance as yf\n",
    "import pandas as pd\n",
    "import os"
   ]
  },
  {
   "cell_type": "code",
   "execution_count": 52,
   "metadata": {},
   "outputs": [],
   "source": [
    "if os.path.exists(\"sp500.csv\"):\n",
    "    sp500 = pd.read_csv(\"sp500.csv\", index_col=0)\n",
    "else:\n",
    "    sp500 = yf.Ticker(\"^GSPC\")\n",
    "    sp500 = sp500.history(period=\"max\")\n",
    "    sp500.to_csv(\"sp500.csv\")"
   ]
  },
  {
   "cell_type": "code",
   "execution_count": 53,
   "metadata": {},
   "outputs": [],
   "source": [
    "sp500.index = pd.to_datetime(sp500.index)"
   ]
  },
  {
   "cell_type": "code",
   "execution_count": 54,
   "metadata": {},
   "outputs": [
    {
     "data": {
      "text/html": [
       "<div>\n",
       "<style scoped>\n",
       "    .dataframe tbody tr th:only-of-type {\n",
       "        vertical-align: middle;\n",
       "    }\n",
       "\n",
       "    .dataframe tbody tr th {\n",
       "        vertical-align: top;\n",
       "    }\n",
       "\n",
       "    .dataframe thead th {\n",
       "        text-align: right;\n",
       "    }\n",
       "</style>\n",
       "<table border=\"1\" class=\"dataframe\">\n",
       "  <thead>\n",
       "    <tr style=\"text-align: right;\">\n",
       "      <th></th>\n",
       "      <th>Open</th>\n",
       "      <th>High</th>\n",
       "      <th>Low</th>\n",
       "      <th>Close</th>\n",
       "      <th>Volume</th>\n",
       "      <th>Dividends</th>\n",
       "      <th>Stock Splits</th>\n",
       "    </tr>\n",
       "    <tr>\n",
       "      <th>Date</th>\n",
       "      <th></th>\n",
       "      <th></th>\n",
       "      <th></th>\n",
       "      <th></th>\n",
       "      <th></th>\n",
       "      <th></th>\n",
       "      <th></th>\n",
       "    </tr>\n",
       "  </thead>\n",
       "  <tbody>\n",
       "    <tr>\n",
       "      <th>1927-12-30 00:00:00-05:00</th>\n",
       "      <td>17.660000</td>\n",
       "      <td>17.660000</td>\n",
       "      <td>17.660000</td>\n",
       "      <td>17.660000</td>\n",
       "      <td>0</td>\n",
       "      <td>0.0</td>\n",
       "      <td>0.0</td>\n",
       "    </tr>\n",
       "    <tr>\n",
       "      <th>1928-01-03 00:00:00-05:00</th>\n",
       "      <td>17.760000</td>\n",
       "      <td>17.760000</td>\n",
       "      <td>17.760000</td>\n",
       "      <td>17.760000</td>\n",
       "      <td>0</td>\n",
       "      <td>0.0</td>\n",
       "      <td>0.0</td>\n",
       "    </tr>\n",
       "    <tr>\n",
       "      <th>1928-01-04 00:00:00-05:00</th>\n",
       "      <td>17.719999</td>\n",
       "      <td>17.719999</td>\n",
       "      <td>17.719999</td>\n",
       "      <td>17.719999</td>\n",
       "      <td>0</td>\n",
       "      <td>0.0</td>\n",
       "      <td>0.0</td>\n",
       "    </tr>\n",
       "    <tr>\n",
       "      <th>1928-01-05 00:00:00-05:00</th>\n",
       "      <td>17.549999</td>\n",
       "      <td>17.549999</td>\n",
       "      <td>17.549999</td>\n",
       "      <td>17.549999</td>\n",
       "      <td>0</td>\n",
       "      <td>0.0</td>\n",
       "      <td>0.0</td>\n",
       "    </tr>\n",
       "    <tr>\n",
       "      <th>1928-01-06 00:00:00-05:00</th>\n",
       "      <td>17.660000</td>\n",
       "      <td>17.660000</td>\n",
       "      <td>17.660000</td>\n",
       "      <td>17.660000</td>\n",
       "      <td>0</td>\n",
       "      <td>0.0</td>\n",
       "      <td>0.0</td>\n",
       "    </tr>\n",
       "    <tr>\n",
       "      <th>...</th>\n",
       "      <td>...</td>\n",
       "      <td>...</td>\n",
       "      <td>...</td>\n",
       "      <td>...</td>\n",
       "      <td>...</td>\n",
       "      <td>...</td>\n",
       "      <td>...</td>\n",
       "    </tr>\n",
       "    <tr>\n",
       "      <th>2023-08-25 00:00:00-04:00</th>\n",
       "      <td>4389.379883</td>\n",
       "      <td>4418.459961</td>\n",
       "      <td>4356.290039</td>\n",
       "      <td>4405.709961</td>\n",
       "      <td>3296180000</td>\n",
       "      <td>0.0</td>\n",
       "      <td>0.0</td>\n",
       "    </tr>\n",
       "    <tr>\n",
       "      <th>2023-08-28 00:00:00-04:00</th>\n",
       "      <td>4426.029785</td>\n",
       "      <td>4439.560059</td>\n",
       "      <td>4414.979980</td>\n",
       "      <td>4433.310059</td>\n",
       "      <td>2957230000</td>\n",
       "      <td>0.0</td>\n",
       "      <td>0.0</td>\n",
       "    </tr>\n",
       "    <tr>\n",
       "      <th>2023-08-29 00:00:00-04:00</th>\n",
       "      <td>4432.750000</td>\n",
       "      <td>4500.140137</td>\n",
       "      <td>4431.680176</td>\n",
       "      <td>4497.629883</td>\n",
       "      <td>3354820000</td>\n",
       "      <td>0.0</td>\n",
       "      <td>0.0</td>\n",
       "    </tr>\n",
       "    <tr>\n",
       "      <th>2023-08-30 00:00:00-04:00</th>\n",
       "      <td>4500.339844</td>\n",
       "      <td>4521.649902</td>\n",
       "      <td>4493.589844</td>\n",
       "      <td>4514.870117</td>\n",
       "      <td>3064110000</td>\n",
       "      <td>0.0</td>\n",
       "      <td>0.0</td>\n",
       "    </tr>\n",
       "    <tr>\n",
       "      <th>2023-08-31 00:00:00-04:00</th>\n",
       "      <td>4517.009766</td>\n",
       "      <td>4532.259766</td>\n",
       "      <td>4507.390137</td>\n",
       "      <td>4507.660156</td>\n",
       "      <td>3946360000</td>\n",
       "      <td>0.0</td>\n",
       "      <td>0.0</td>\n",
       "    </tr>\n",
       "  </tbody>\n",
       "</table>\n",
       "<p>24032 rows × 7 columns</p>\n",
       "</div>"
      ],
      "text/plain": [
       "                                  Open         High          Low        Close  \\\n",
       "Date                                                                            \n",
       "1927-12-30 00:00:00-05:00    17.660000    17.660000    17.660000    17.660000   \n",
       "1928-01-03 00:00:00-05:00    17.760000    17.760000    17.760000    17.760000   \n",
       "1928-01-04 00:00:00-05:00    17.719999    17.719999    17.719999    17.719999   \n",
       "1928-01-05 00:00:00-05:00    17.549999    17.549999    17.549999    17.549999   \n",
       "1928-01-06 00:00:00-05:00    17.660000    17.660000    17.660000    17.660000   \n",
       "...                                ...          ...          ...          ...   \n",
       "2023-08-25 00:00:00-04:00  4389.379883  4418.459961  4356.290039  4405.709961   \n",
       "2023-08-28 00:00:00-04:00  4426.029785  4439.560059  4414.979980  4433.310059   \n",
       "2023-08-29 00:00:00-04:00  4432.750000  4500.140137  4431.680176  4497.629883   \n",
       "2023-08-30 00:00:00-04:00  4500.339844  4521.649902  4493.589844  4514.870117   \n",
       "2023-08-31 00:00:00-04:00  4517.009766  4532.259766  4507.390137  4507.660156   \n",
       "\n",
       "                               Volume  Dividends  Stock Splits  \n",
       "Date                                                            \n",
       "1927-12-30 00:00:00-05:00           0        0.0           0.0  \n",
       "1928-01-03 00:00:00-05:00           0        0.0           0.0  \n",
       "1928-01-04 00:00:00-05:00           0        0.0           0.0  \n",
       "1928-01-05 00:00:00-05:00           0        0.0           0.0  \n",
       "1928-01-06 00:00:00-05:00           0        0.0           0.0  \n",
       "...                               ...        ...           ...  \n",
       "2023-08-25 00:00:00-04:00  3296180000        0.0           0.0  \n",
       "2023-08-28 00:00:00-04:00  2957230000        0.0           0.0  \n",
       "2023-08-29 00:00:00-04:00  3354820000        0.0           0.0  \n",
       "2023-08-30 00:00:00-04:00  3064110000        0.0           0.0  \n",
       "2023-08-31 00:00:00-04:00  3946360000        0.0           0.0  \n",
       "\n",
       "[24032 rows x 7 columns]"
      ]
     },
     "execution_count": 54,
     "metadata": {},
     "output_type": "execute_result"
    }
   ],
   "source": [
    "sp500"
   ]
  },
  {
   "cell_type": "code",
   "execution_count": 55,
   "metadata": {
    "scrolled": true
   },
   "outputs": [
    {
     "data": {
      "text/plain": [
       "<Axes: xlabel='Date'>"
      ]
     },
     "execution_count": 55,
     "metadata": {},
     "output_type": "execute_result"
    },
    {
     "data": {
      "image/png": "[encoded data removed]",
      "text/plain": [
       "<Figure size 640x480 with 1 Axes>"
      ]
     },
     "metadata": {},
     "output_type": "display_data"
    }
   ],
   "source": [
    "sp500.plot.line(y=\"Close\", use_index=True)"
   ]
  },
  {
   "cell_type": "code",
   "execution_count": 56,
   "metadata": {},
   "outputs": [],
   "source": [
    "del sp500[\"Dividends\"]\n",
    "del sp500[\"Stock Splits\"]"
   ]
  },
  {
   "cell_type": "code",
   "execution_count": 57,
   "metadata": {},
   "outputs": [],
   "source": [
    "sp500[\"Tomorrow\"] = sp500[\"Close\"].shift(-1)"
   ]
  },
  {
   "cell_type": "code",
   "execution_count": 58,
   "metadata": {},
   "outputs": [],
   "source": [
    "sp500[\"Target\"] = (sp500[\"Tomorrow\"] > sp500[\"Close\"]).astype(int)"
   ]
  },
  {
   "cell_type": "code",
   "execution_count": 59,
   "metadata": {},
   "outputs": [
    {
     "data": {
      "text/html": [
       "<style>#sk-container-id-4 {color: black;}#sk-container-id-4 pre{padding: 0;}#sk-container-id-4 div.sk-toggleable {background-color: white;}#sk-container-id-4 label.sk-toggleable__label {cursor: pointer;display: block;width: 100%;margin-bottom: 0;padding: 0.3em;box-sizing: border-box;text-align: center;}#sk-container-id-4 label.sk-toggleable__label-arrow:before {content: \"▸\";float: left;margin-right: 0.25em;color: #696969;}#sk-container-id-4 label.sk-toggleable__label-arrow:hover:before {color: black;}#sk-container-id-4 div.sk-estimator:hover label.sk-toggleable__label-arrow:before {color: black;}#sk-container-id-4 div.sk-toggleable__content {max-height: 0;max-width: 0;overflow: hidden;text-align: left;background-color: #f0f8ff;}#sk-container-id-4 div.sk-toggleable__content pre {margin: 0.2em;color: black;border-radius: 0.25em;background-color: #f0f8ff;}#sk-container-id-4 input.sk-toggleable__control:checked~div.sk-toggleable__content {max-height: 200px;max-width: 100%;overflow: auto;}#sk-container-id-4 input.sk-toggleable__control:checked~label.sk-toggleable__label-arrow:before {content: \"▾\";}#sk-container-id-4 div.sk-estimator input.sk-toggleable__control:checked~label.sk-toggleable__label {background-color: #d4ebff;}#sk-container-id-4 div.sk-label input.sk-toggleable__control:checked~label.sk-toggleable__label {background-color: #d4ebff;}#sk-container-id-4 input.sk-hidden--visually {border: 0;clip: rect(1px 1px 1px 1px);clip: rect(1px, 1px, 1px, 1px);height: 1px;margin: -1px;overflow: hidden;padding: 0;position: absolute;width: 1px;}#sk-container-id-4 div.sk-estimator {font-family: monospace;background-color: #f0f8ff;border: 1px dotted black;border-radius: 0.25em;box-sizing: border-box;margin-bottom: 0.5em;}#sk-container-id-4 div.sk-estimator:hover {background-color: #d4ebff;}#sk-container-id-4 div.sk-parallel-item::after {content: \"\";width: 100%;border-bottom: 1px solid gray;flex-grow: 1;}#sk-container-id-4 div.sk-label:hover label.sk-toggleable__label {background-color: #d4ebff;}#sk-container-id-4 div.sk-serial::before {content: \"\";position: absolute;border-left: 1px solid gray;box-sizing: border-box;top: 0;bottom: 0;left: 50%;z-index: 0;}#sk-container-id-4 div.sk-serial {display: flex;flex-direction: column;align-items: center;background-color: white;padding-right: 0.2em;padding-left: 0.2em;position: relative;}#sk-container-id-4 div.sk-item {position: relative;z-index: 1;}#sk-container-id-4 div.sk-parallel {display: flex;align-items: stretch;justify-content: center;background-color: white;position: relative;}#sk-container-id-4 div.sk-item::before, #sk-container-id-4 div.sk-parallel-item::before {content: \"\";position: absolute;border-left: 1px solid gray;box-sizing: border-box;top: 0;bottom: 0;left: 50%;z-index: -1;}#sk-container-id-4 div.sk-parallel-item {display: flex;flex-direction: column;z-index: 1;position: relative;background-color: white;}#sk-container-id-4 div.sk-parallel-item:first-child::after {align-self: flex-end;width: 50%;}#sk-container-id-4 div.sk-parallel-item:last-child::after {align-self: flex-start;width: 50%;}#sk-container-id-4 div.sk-parallel-item:only-child::after {width: 0;}#sk-container-id-4 div.sk-dashed-wrapped {border: 1px dashed gray;margin: 0 0.4em 0.5em 0.4em;box-sizing: border-box;padding-bottom: 0.4em;background-color: white;}#sk-container-id-4 div.sk-label label {font-family: monospace;font-weight: bold;display: inline-block;line-height: 1.2em;}#sk-container-id-4 div.sk-label-container {text-align: center;}#sk-container-id-4 div.sk-container {/* jupyter's `normalize.less` sets `[hidden] { display: none; }` but bootstrap.min.css set `[hidden] { display: none !important; }` so we also need the `!important` here to be able to override the default hidden behavior on the sphinx rendered scikit-learn.org. See: https://github.com/scikit-learn/scikit-learn/issues/21755 */display: inline-block !important;position: relative;}#sk-container-id-4 div.sk-text-repr-fallback {display: none;}</style><div id=\"sk-container-id-4\" class=\"sk-top-container\"><div class=\"sk-text-repr-fallback\"><pre>RandomForestClassifier(min_samples_split=100, random_state=1)</pre><b>In a Jupyter environment, please rerun this cell to show the HTML representation or trust the notebook. <br />On GitHub, the HTML representation is unable to render, please try loading this page with nbviewer.org.</b></div><div class=\"sk-container\" hidden><div class=\"sk-item\"><div class=\"sk-estimator sk-toggleable\"><input class=\"sk-toggleable__control sk-hidden--visually\" id=\"sk-estimator-id-4\" type=\"checkbox\" checked><label for=\"sk-estimator-id-4\" class=\"sk-toggleable__label sk-toggleable__label-arrow\">RandomForestClassifier</label><div class=\"sk-toggleable__content\"><pre>RandomForestClassifier(min_samples_split=100, random_state=1)</pre></div></div></div></div></div>"
      ],
      "text/plain": [
       "RandomForestClassifier(min_samples_split=100, random_state=1)"
      ]
     },
     "execution_count": 59,
     "metadata": {},
     "output_type": "execute_result"
    }
   ],
   "source": [
    "\n",
    "from sklearn.ensemble import RandomForestClassifier\n",
    "\n",
    "model = RandomForestClassifier(n_estimators=100, min_samples_split=100, random_state=1)\n",
    "\n",
    "train = sp500.iloc[:-100]\n",
    "test = sp500.iloc[-100:]\n",
    "\n",
    "predictors = [\"Close\", \"Volume\", \"Open\", \"High\", \"Low\"]\n",
    "model.fit(train[predictors], train[\"Target\"])"
   ]
  },
  {
   "cell_type": "code",
   "execution_count": 60,
   "metadata": {},
   "outputs": [
    {
     "data": {
      "text/plain": [
       "0.5507246376811594"
      ]
     },
     "execution_count": 60,
     "metadata": {},
     "output_type": "execute_result"
    }
   ],
   "source": [
    "from sklearn.metrics import precision_score\n",
    "\n",
    "preds = model.predict(test[predictors])\n",
    "preds = pd.Series(preds, index=test.index)\n",
    "precision_score(test[\"Target\"], preds)"
   ]
  },
  {
   "cell_type": "code",
   "execution_count": 61,
   "metadata": {},
   "outputs": [
    {
     "data": {
      "text/plain": [
       "<Axes: xlabel='Date'>"
      ]
     },
     "execution_count": 61,
     "metadata": {},
     "output_type": "execute_result"
    },
    {
     "data": {
      "image/png": "[encoded data removed]",
      "text/plain": [
       "<Figure size 640x480 with 1 Axes>"
      ]
     },
     "metadata": {},
     "output_type": "display_data"
    }
   ],
   "source": [
    "combined = pd.concat([test[\"Target\"], preds], axis=1)\n",
    "combined.plot()"
   ]
  },
  {
   "cell_type": "code",
   "execution_count": 62,
   "metadata": {},
   "outputs": [],
   "source": [
    "def predict(train, test, predictors, model):\n",
    "    model.fit(train[predictors], train[\"Target\"])\n",
    "    preds = model.predict(test[predictors])\n",
    "    preds = pd.Series(preds, index=test.index, name=\"Predictions\")\n",
    "    combined = pd.concat([test[\"Target\"], preds], axis=1)\n",
    "    return combined"
   ]
  },
  {
   "cell_type": "code",
   "execution_count": 63,
   "metadata": {},
   "outputs": [],
   "source": [
    "def backtest(data, model, predictors, start=2500, step=250):\n",
    "    all_predictions = []\n",
    "\n",
    "    for i in range(start, data.shape[0], step):\n",
    "        train = data.iloc[0:i].copy()\n",
    "        test = data.iloc[i:(i+step)].copy()\n",
    "        predictions = predict(train, test, predictors, model)\n",
    "        all_predictions.append(predictions)\n",
    "    \n",
    "    return pd.concat(all_predictions)"
   ]
  },
  {
   "cell_type": "code",
   "execution_count": 64,
   "metadata": {},
   "outputs": [],
   "source": [
    "predictions = backtest(sp500, model, predictors)\n"
   ]
  },
  {
   "cell_type": "code",
   "execution_count": 65,
   "metadata": {},
   "outputs": [
    {
     "data": {
      "text/plain": [
       "0.5167785234899329"
      ]
     },
     "execution_count": 65,
     "metadata": {},
     "output_type": "execute_result"
    }
   ],
   "source": [
    "precision_score(predictions[\"Target\"], predictions[\"Predictions\"])"
   ]
  },
  {
   "cell_type": "code",
   "execution_count": 66,
   "metadata": {},
   "outputs": [
    {
     "data": {
      "text/plain": [
       "Target\n",
       "1    0.525961\n",
       "0    0.474039\n",
       "Name: count, dtype: float64"
      ]
     },
     "execution_count": 66,
     "metadata": {},
     "output_type": "execute_result"
    }
   ],
   "source": [
    "predictions[\"Target\"].value_counts() / predictions.shape[0]"
   ]
  },
  {
   "cell_type": "code",
   "execution_count": 67,
   "metadata": {},
   "outputs": [],
   "source": [
    "horizons = [2,5,60,250,1000]\n",
    "new_predictors = []\n",
    "\n",
    "for horizon in horizons:\n",
    "    rolling_averages = sp500.rolling(horizon).mean()\n",
    "    \n",
    "    ratio_column = f\"Close_Ratio_{horizon}\"\n",
    "    sp500[ratio_column] = sp500[\"Close\"] / rolling_averages[\"Close\"]\n",
    "    \n",
    "    trend_column = f\"Trend_{horizon}\"\n",
    "    sp500[trend_column] = sp500.shift(1).rolling(horizon).sum()[\"Target\"]\n",
    "    \n",
    "    new_predictors+= [ratio_column, trend_column]"
   ]
  },
  {
   "cell_type": "code",
   "execution_count": 68,
   "metadata": {},
   "outputs": [],
   "source": [
    "sp500 = sp500.dropna(subset=sp500.columns[sp500.columns != \"Tomorrow\"])"
   ]
  },
  {
   "cell_type": "code",
   "execution_count": 69,
   "metadata": {
    "scrolled": true
   },
   "outputs": [
    {
     "data": {
      "text/html": [
       "<div>\n",
       "<style scoped>\n",
       "    .dataframe tbody tr th:only-of-type {\n",
       "        vertical-align: middle;\n",
       "    }\n",
       "\n",
       "    .dataframe tbody tr th {\n",
       "        vertical-align: top;\n",
       "    }\n",
       "\n",
       "    .dataframe thead th {\n",
       "        text-align: right;\n",
       "    }\n",
       "</style>\n",
       "<table border=\"1\" class=\"dataframe\">\n",
       "  <thead>\n",
       "    <tr style=\"text-align: right;\">\n",
       "      <th></th>\n",
       "      <th>Open</th>\n",
       "      <th>High</th>\n",
       "      <th>Low</th>\n",
       "      <th>Close</th>\n",
       "      <th>Volume</th>\n",
       "      <th>Tomorrow</th>\n",
       "      <th>Target</th>\n",
       "      <th>Close_Ratio_2</th>\n",
       "      <th>Trend_2</th>\n",
       "      <th>Close_Ratio_5</th>\n",
       "      <th>Trend_5</th>\n",
       "      <th>Close_Ratio_60</th>\n",
       "      <th>Trend_60</th>\n",
       "      <th>Close_Ratio_250</th>\n",
       "      <th>Trend_250</th>\n",
       "      <th>Close_Ratio_1000</th>\n",
       "      <th>Trend_1000</th>\n",
       "    </tr>\n",
       "    <tr>\n",
       "      <th>Date</th>\n",
       "      <th></th>\n",
       "      <th></th>\n",
       "      <th></th>\n",
       "      <th></th>\n",
       "      <th></th>\n",
       "      <th></th>\n",
       "      <th></th>\n",
       "      <th></th>\n",
       "      <th></th>\n",
       "      <th></th>\n",
       "      <th></th>\n",
       "      <th></th>\n",
       "      <th></th>\n",
       "      <th></th>\n",
       "      <th></th>\n",
       "      <th></th>\n",
       "      <th></th>\n",
       "    </tr>\n",
       "  </thead>\n",
       "  <tbody>\n",
       "    <tr>\n",
       "      <th>1931-12-29 00:00:00-05:00</th>\n",
       "      <td>7.960000</td>\n",
       "      <td>7.960000</td>\n",
       "      <td>7.960000</td>\n",
       "      <td>7.960000</td>\n",
       "      <td>0</td>\n",
       "      <td>8.100000</td>\n",
       "      <td>1</td>\n",
       "      <td>1.012723</td>\n",
       "      <td>1.0</td>\n",
       "      <td>0.996994</td>\n",
       "      <td>3.0</td>\n",
       "      <td>0.821282</td>\n",
       "      <td>24.0</td>\n",
       "      <td>0.582074</td>\n",
       "      <td>105.0</td>\n",
       "      <td>0.394305</td>\n",
       "      <td>521.0</td>\n",
       "    </tr>\n",
       "    <tr>\n",
       "      <th>1931-12-30 00:00:00-05:00</th>\n",
       "      <td>8.100000</td>\n",
       "      <td>8.100000</td>\n",
       "      <td>8.100000</td>\n",
       "      <td>8.100000</td>\n",
       "      <td>0</td>\n",
       "      <td>8.120000</td>\n",
       "      <td>1</td>\n",
       "      <td>1.008717</td>\n",
       "      <td>2.0</td>\n",
       "      <td>1.019381</td>\n",
       "      <td>3.0</td>\n",
       "      <td>0.837787</td>\n",
       "      <td>25.0</td>\n",
       "      <td>0.593657</td>\n",
       "      <td>105.0</td>\n",
       "      <td>0.401432</td>\n",
       "      <td>521.0</td>\n",
       "    </tr>\n",
       "    <tr>\n",
       "      <th>1931-12-31 00:00:00-05:00</th>\n",
       "      <td>8.120000</td>\n",
       "      <td>8.120000</td>\n",
       "      <td>8.120000</td>\n",
       "      <td>8.120000</td>\n",
       "      <td>0</td>\n",
       "      <td>7.560000</td>\n",
       "      <td>0</td>\n",
       "      <td>1.001233</td>\n",
       "      <td>2.0</td>\n",
       "      <td>1.017544</td>\n",
       "      <td>4.0</td>\n",
       "      <td>0.842149</td>\n",
       "      <td>25.0</td>\n",
       "      <td>0.596489</td>\n",
       "      <td>105.0</td>\n",
       "      <td>0.402615</td>\n",
       "      <td>522.0</td>\n",
       "    </tr>\n",
       "    <tr>\n",
       "      <th>1932-01-04 00:00:00-05:00</th>\n",
       "      <td>7.560000</td>\n",
       "      <td>7.560000</td>\n",
       "      <td>7.560000</td>\n",
       "      <td>7.560000</td>\n",
       "      <td>0</td>\n",
       "      <td>7.550000</td>\n",
       "      <td>0</td>\n",
       "      <td>0.964286</td>\n",
       "      <td>1.0</td>\n",
       "      <td>0.956962</td>\n",
       "      <td>3.0</td>\n",
       "      <td>0.785781</td>\n",
       "      <td>25.0</td>\n",
       "      <td>0.556754</td>\n",
       "      <td>104.0</td>\n",
       "      <td>0.375034</td>\n",
       "      <td>522.0</td>\n",
       "    </tr>\n",
       "    <tr>\n",
       "      <th>1932-01-05 00:00:00-05:00</th>\n",
       "      <td>7.550000</td>\n",
       "      <td>7.550000</td>\n",
       "      <td>7.550000</td>\n",
       "      <td>7.550000</td>\n",
       "      <td>0</td>\n",
       "      <td>8.080000</td>\n",
       "      <td>1</td>\n",
       "      <td>0.999338</td>\n",
       "      <td>0.0</td>\n",
       "      <td>0.960804</td>\n",
       "      <td>3.0</td>\n",
       "      <td>0.787963</td>\n",
       "      <td>24.0</td>\n",
       "      <td>0.557255</td>\n",
       "      <td>104.0</td>\n",
       "      <td>0.374726</td>\n",
       "      <td>521.0</td>\n",
       "    </tr>\n",
       "    <tr>\n",
       "      <th>...</th>\n",
       "      <td>...</td>\n",
       "      <td>...</td>\n",
       "      <td>...</td>\n",
       "      <td>...</td>\n",
       "      <td>...</td>\n",
       "      <td>...</td>\n",
       "      <td>...</td>\n",
       "      <td>...</td>\n",
       "      <td>...</td>\n",
       "      <td>...</td>\n",
       "      <td>...</td>\n",
       "      <td>...</td>\n",
       "      <td>...</td>\n",
       "      <td>...</td>\n",
       "      <td>...</td>\n",
       "      <td>...</td>\n",
       "      <td>...</td>\n",
       "    </tr>\n",
       "    <tr>\n",
       "      <th>2023-08-25 00:00:00-04:00</th>\n",
       "      <td>4389.379883</td>\n",
       "      <td>4418.459961</td>\n",
       "      <td>4356.290039</td>\n",
       "      <td>4405.709961</td>\n",
       "      <td>3296180000</td>\n",
       "      <td>4433.310059</td>\n",
       "      <td>1</td>\n",
       "      <td>1.003348</td>\n",
       "      <td>1.0</td>\n",
       "      <td>1.001054</td>\n",
       "      <td>3.0</td>\n",
       "      <td>0.993843</td>\n",
       "      <td>32.0</td>\n",
       "      <td>1.080875</td>\n",
       "      <td>119.0</td>\n",
       "      <td>1.143935</td>\n",
       "      <td>531.0</td>\n",
       "    </tr>\n",
       "    <tr>\n",
       "      <th>2023-08-28 00:00:00-04:00</th>\n",
       "      <td>4426.029785</td>\n",
       "      <td>4439.560059</td>\n",
       "      <td>4414.979980</td>\n",
       "      <td>4433.310059</td>\n",
       "      <td>2957230000</td>\n",
       "      <td>4497.629883</td>\n",
       "      <td>1</td>\n",
       "      <td>1.003123</td>\n",
       "      <td>2.0</td>\n",
       "      <td>1.005793</td>\n",
       "      <td>3.0</td>\n",
       "      <td>0.999272</td>\n",
       "      <td>32.0</td>\n",
       "      <td>1.087216</td>\n",
       "      <td>120.0</td>\n",
       "      <td>1.150666</td>\n",
       "      <td>531.0</td>\n",
       "    </tr>\n",
       "    <tr>\n",
       "      <th>2023-08-29 00:00:00-04:00</th>\n",
       "      <td>4432.750000</td>\n",
       "      <td>4500.140137</td>\n",
       "      <td>4431.680176</td>\n",
       "      <td>4497.629883</td>\n",
       "      <td>3354820000</td>\n",
       "      <td>4514.870117</td>\n",
       "      <td>1</td>\n",
       "      <td>1.007202</td>\n",
       "      <td>2.0</td>\n",
       "      <td>1.015314</td>\n",
       "      <td>4.0</td>\n",
       "      <td>1.012951</td>\n",
       "      <td>32.0</td>\n",
       "      <td>1.102437</td>\n",
       "      <td>121.0</td>\n",
       "      <td>1.166900</td>\n",
       "      <td>532.0</td>\n",
       "    </tr>\n",
       "    <tr>\n",
       "      <th>2023-08-30 00:00:00-04:00</th>\n",
       "      <td>4500.339844</td>\n",
       "      <td>4521.649902</td>\n",
       "      <td>4493.589844</td>\n",
       "      <td>4514.870117</td>\n",
       "      <td>3064110000</td>\n",
       "      <td>4507.660156</td>\n",
       "      <td>0</td>\n",
       "      <td>1.001913</td>\n",
       "      <td>2.0</td>\n",
       "      <td>1.015589</td>\n",
       "      <td>4.0</td>\n",
       "      <td>1.015914</td>\n",
       "      <td>33.0</td>\n",
       "      <td>1.106056</td>\n",
       "      <td>122.0</td>\n",
       "      <td>1.170907</td>\n",
       "      <td>532.0</td>\n",
       "    </tr>\n",
       "    <tr>\n",
       "      <th>2023-08-31 00:00:00-04:00</th>\n",
       "      <td>4517.009766</td>\n",
       "      <td>4532.259766</td>\n",
       "      <td>4507.390137</td>\n",
       "      <td>4507.660156</td>\n",
       "      <td>3946360000</td>\n",
       "      <td>NaN</td>\n",
       "      <td>0</td>\n",
       "      <td>0.999201</td>\n",
       "      <td>1.0</td>\n",
       "      <td>1.008011</td>\n",
       "      <td>4.0</td>\n",
       "      <td>1.013441</td>\n",
       "      <td>32.0</td>\n",
       "      <td>1.103704</td>\n",
       "      <td>121.0</td>\n",
       "      <td>1.168580</td>\n",
       "      <td>531.0</td>\n",
       "    </tr>\n",
       "  </tbody>\n",
       "</table>\n",
       "<p>23032 rows × 17 columns</p>\n",
       "</div>"
      ],
      "text/plain": [
       "                                  Open         High          Low        Close  \\\n",
       "Date                                                                            \n",
       "1931-12-29 00:00:00-05:00     7.960000     7.960000     7.960000     7.960000   \n",
       "1931-12-30 00:00:00-05:00     8.100000     8.100000     8.100000     8.100000   \n",
       "1931-12-31 00:00:00-05:00     8.120000     8.120000     8.120000     8.120000   \n",
       "1932-01-04 00:00:00-05:00     7.560000     7.560000     7.560000     7.560000   \n",
       "1932-01-05 00:00:00-05:00     7.550000     7.550000     7.550000     7.550000   \n",
       "...                                ...          ...          ...          ...   \n",
       "2023-08-25 00:00:00-04:00  4389.379883  4418.459961  4356.290039  4405.709961   \n",
       "2023-08-28 00:00:00-04:00  4426.029785  4439.560059  4414.979980  4433.310059   \n",
       "2023-08-29 00:00:00-04:00  4432.750000  4500.140137  4431.680176  4497.629883   \n",
       "2023-08-30 00:00:00-04:00  4500.339844  4521.649902  4493.589844  4514.870117   \n",
       "2023-08-31 00:00:00-04:00  4517.009766  4532.259766  4507.390137  4507.660156   \n",
       "\n",
       "                               Volume     Tomorrow  Target  Close_Ratio_2  \\\n",
       "Date                                                                        \n",
       "1931-12-29 00:00:00-05:00           0     8.100000       1       1.012723   \n",
       "1931-12-30 00:00:00-05:00           0     8.120000       1       1.008717   \n",
       "1931-12-31 00:00:00-05:00           0     7.560000       0       1.001233   \n",
       "1932-01-04 00:00:00-05:00           0     7.550000       0       0.964286   \n",
       "1932-01-05 00:00:00-05:00           0     8.080000       1       0.999338   \n",
       "...                               ...          ...     ...            ...   \n",
       "2023-08-25 00:00:00-04:00  3296180000  4433.310059       1       1.003348   \n",
       "2023-08-28 00:00:00-04:00  2957230000  4497.629883       1       1.003123   \n",
       "2023-08-29 00:00:00-04:00  3354820000  4514.870117       1       1.007202   \n",
       "2023-08-30 00:00:00-04:00  3064110000  4507.660156       0       1.001913   \n",
       "2023-08-31 00:00:00-04:00  3946360000          NaN       0       0.999201   \n",
       "\n",
       "                           Trend_2  Close_Ratio_5  Trend_5  Close_Ratio_60  \\\n",
       "Date                                                                         \n",
       "1931-12-29 00:00:00-05:00      1.0       0.996994      3.0        0.821282   \n",
       "1931-12-30 00:00:00-05:00      2.0       1.019381      3.0        0.837787   \n",
       "1931-12-31 00:00:00-05:00      2.0       1.017544      4.0        0.842149   \n",
       "1932-01-04 00:00:00-05:00      1.0       0.956962      3.0        0.785781   \n",
       "1932-01-05 00:00:00-05:00      0.0       0.960804      3.0        0.787963   \n",
       "...                            ...            ...      ...             ...   \n",
       "2023-08-25 00:00:00-04:00      1.0       1.001054      3.0        0.993843   \n",
       "2023-08-28 00:00:00-04:00      2.0       1.005793      3.0        0.999272   \n",
       "2023-08-29 00:00:00-04:00      2.0       1.015314      4.0        1.012951   \n",
       "2023-08-30 00:00:00-04:00      2.0       1.015589      4.0        1.015914   \n",
       "2023-08-31 00:00:00-04:00      1.0       1.008011      4.0        1.013441   \n",
       "\n",
       "                           Trend_60  Close_Ratio_250  Trend_250  \\\n",
       "Date                                                              \n",
       "1931-12-29 00:00:00-05:00      24.0         0.582074      105.0   \n",
       "1931-12-30 00:00:00-05:00      25.0         0.593657      105.0   \n",
       "1931-12-31 00:00:00-05:00      25.0         0.596489      105.0   \n",
       "1932-01-04 00:00:00-05:00      25.0         0.556754      104.0   \n",
       "1932-01-05 00:00:00-05:00      24.0         0.557255      104.0   \n",
       "...                             ...              ...        ...   \n",
       "2023-08-25 00:00:00-04:00      32.0         1.080875      119.0   \n",
       "2023-08-28 00:00:00-04:00      32.0         1.087216      120.0   \n",
       "2023-08-29 00:00:00-04:00      32.0         1.102437      121.0   \n",
       "2023-08-30 00:00:00-04:00      33.0         1.106056      122.0   \n",
       "2023-08-31 00:00:00-04:00      32.0         1.103704      121.0   \n",
       "\n",
       "                           Close_Ratio_1000  Trend_1000  \n",
       "Date                                                     \n",
       "1931-12-29 00:00:00-05:00          0.394305       521.0  \n",
       "1931-12-30 00:00:00-05:00          0.401432       521.0  \n",
       "1931-12-31 00:00:00-05:00          0.402615       522.0  \n",
       "1932-01-04 00:00:00-05:00          0.375034       522.0  \n",
       "1932-01-05 00:00:00-05:00          0.374726       521.0  \n",
       "...                                     ...         ...  \n",
       "2023-08-25 00:00:00-04:00          1.143935       531.0  \n",
       "2023-08-28 00:00:00-04:00          1.150666       531.0  \n",
       "2023-08-29 00:00:00-04:00          1.166900       532.0  \n",
       "2023-08-30 00:00:00-04:00          1.170907       532.0  \n",
       "2023-08-31 00:00:00-04:00          1.168580       531.0  \n",
       "\n",
       "[23032 rows x 17 columns]"
      ]
     },
     "execution_count": 69,
     "metadata": {},
     "output_type": "execute_result"
    }
   ],
   "source": [
    "sp500"
   ]
  },
  {
   "cell_type": "code",
   "execution_count": 70,
   "metadata": {},
   "outputs": [],
   "source": [
    "model = RandomForestClassifier(n_estimators=200, min_samples_split=50, random_state=1)"
   ]
  },
  {
   "cell_type": "code",
   "execution_count": 71,
   "metadata": {},
   "outputs": [],
   "source": [
    "def predict(train, test, predictors, model):\n",
    "    model.fit(train[predictors], train[\"Target\"])\n",
    "    preds = model.predict_proba(test[predictors])[:,1]\n",
    "    preds[preds >=.6] = 1\n",
    "    preds[preds <.6] = 0\n",
    "    preds = pd.Series(preds, index=test.index, name=\"Predictions\")\n",
    "    combined = pd.concat([test[\"Target\"], preds], axis=1)\n",
    "    return combined"
   ]
  },
  {
   "cell_type": "code",
   "execution_count": 72,
   "metadata": {},
   "outputs": [],
   "source": [
    "predictions = backtest(sp500, model, new_predictors)"
   ]
  },
  {
   "cell_type": "code",
   "execution_count": 73,
   "metadata": {},
   "outputs": [
    {
     "data": {
      "text/plain": [
       "Predictions\n",
       "0.0    17408\n",
       "1.0     3124\n",
       "Name: count, dtype: int64"
      ]
     },
     "execution_count": 73,
     "metadata": {},
     "output_type": "execute_result"
    }
   ],
   "source": [
    "predictions[\"Predictions\"].value_counts()"
   ]
  },
  {
   "cell_type": "code",
   "execution_count": 74,
   "metadata": {},
   "outputs": [
    {
     "data": {
      "text/plain": [
       "0.5973111395646606"
      ]
     },
     "execution_count": 74,
     "metadata": {},
     "output_type": "execute_result"
    }
   ],
   "source": [
    "precision_score(predictions[\"Target\"], predictions[\"Predictions\"])"
   ]
  },
  {
   "cell_type": "code",
   "execution_count": 75,
   "metadata": {},
   "outputs": [
    {
     "data": {
      "text/plain": [
       "Target\n",
       "1    0.528638\n",
       "0    0.471362\n",
       "Name: count, dtype: float64"
      ]
     },
     "execution_count": 75,
     "metadata": {},
     "output_type": "execute_result"
    }
   ],
   "source": [
    "predictions[\"Target\"].value_counts() / predictions.shape[0]"
   ]
  },
  {
   "cell_type": "code",
   "execution_count": 76,
   "metadata": {},
   "outputs": [
    {
     "data": {
      "text/html": [
       "<div>\n",
       "<style scoped>\n",
       "    .dataframe tbody tr th:only-of-type {\n",
       "        vertical-align: middle;\n",
       "    }\n",
       "\n",
       "    .dataframe tbody tr th {\n",
       "        vertical-align: top;\n",
       "    }\n",
       "\n",
       "    .dataframe thead th {\n",
       "        text-align: right;\n",
       "    }\n",
       "</style>\n",
       "<table border=\"1\" class=\"dataframe\">\n",
       "  <thead>\n",
       "    <tr style=\"text-align: right;\">\n",
       "      <th></th>\n",
       "      <th>Target</th>\n",
       "      <th>Predictions</th>\n",
       "    </tr>\n",
       "    <tr>\n",
       "      <th>Date</th>\n",
       "      <th></th>\n",
       "      <th></th>\n",
       "    </tr>\n",
       "  </thead>\n",
       "  <tbody>\n",
       "    <tr>\n",
       "      <th>1942-01-07 00:00:00-05:00</th>\n",
       "      <td>0</td>\n",
       "      <td>0.0</td>\n",
       "    </tr>\n",
       "    <tr>\n",
       "      <th>1942-01-08 00:00:00-05:00</th>\n",
       "      <td>0</td>\n",
       "      <td>0.0</td>\n",
       "    </tr>\n",
       "    <tr>\n",
       "      <th>1942-01-09 00:00:00-05:00</th>\n",
       "      <td>0</td>\n",
       "      <td>0.0</td>\n",
       "    </tr>\n",
       "    <tr>\n",
       "      <th>1942-01-12 00:00:00-05:00</th>\n",
       "      <td>1</td>\n",
       "      <td>0.0</td>\n",
       "    </tr>\n",
       "    <tr>\n",
       "      <th>1942-01-13 00:00:00-05:00</th>\n",
       "      <td>0</td>\n",
       "      <td>0.0</td>\n",
       "    </tr>\n",
       "    <tr>\n",
       "      <th>...</th>\n",
       "      <td>...</td>\n",
       "      <td>...</td>\n",
       "    </tr>\n",
       "    <tr>\n",
       "      <th>2023-08-25 00:00:00-04:00</th>\n",
       "      <td>1</td>\n",
       "      <td>1.0</td>\n",
       "    </tr>\n",
       "    <tr>\n",
       "      <th>2023-08-28 00:00:00-04:00</th>\n",
       "      <td>1</td>\n",
       "      <td>1.0</td>\n",
       "    </tr>\n",
       "    <tr>\n",
       "      <th>2023-08-29 00:00:00-04:00</th>\n",
       "      <td>1</td>\n",
       "      <td>1.0</td>\n",
       "    </tr>\n",
       "    <tr>\n",
       "      <th>2023-08-30 00:00:00-04:00</th>\n",
       "      <td>0</td>\n",
       "      <td>0.0</td>\n",
       "    </tr>\n",
       "    <tr>\n",
       "      <th>2023-08-31 00:00:00-04:00</th>\n",
       "      <td>0</td>\n",
       "      <td>0.0</td>\n",
       "    </tr>\n",
       "  </tbody>\n",
       "</table>\n",
       "<p>20532 rows × 2 columns</p>\n",
       "</div>"
      ],
      "text/plain": [
       "                           Target  Predictions\n",
       "Date                                          \n",
       "1942-01-07 00:00:00-05:00       0          0.0\n",
       "1942-01-08 00:00:00-05:00       0          0.0\n",
       "1942-01-09 00:00:00-05:00       0          0.0\n",
       "1942-01-12 00:00:00-05:00       1          0.0\n",
       "1942-01-13 00:00:00-05:00       0          0.0\n",
       "...                           ...          ...\n",
       "2023-08-25 00:00:00-04:00       1          1.0\n",
       "2023-08-28 00:00:00-04:00       1          1.0\n",
       "2023-08-29 00:00:00-04:00       1          1.0\n",
       "2023-08-30 00:00:00-04:00       0          0.0\n",
       "2023-08-31 00:00:00-04:00       0          0.0\n",
       "\n",
       "[20532 rows x 2 columns]"
      ]
     },
     "execution_count": 76,
     "metadata": {},
     "output_type": "execute_result"
    }
   ],
   "source": [
    "\n",
    "predictions"
   ]
  },
  {
   "cell_type": "code",
   "execution_count": null,
   "metadata": {},
   "outputs": [],
   "source": []
  }
 ],
 "metadata": {
  "kernelspec": {
   "display_name": "Python 3 (ipykernel)",
   "language": "python",
   "name": "python3"
  },
  "language_info": {
   "codemirror_mode": {
    "name": "ipython",
    "version": 3
   },
   "file_extension": ".py",
   "mimetype": "text/x-python",
   "name": "python",
   "nbconvert_exporter": "python",
   "pygments_lexer": "ipython3",
   "version": "3.11.4"
  }
 },
 "nbformat": 4,
 "nbformat_minor": 2
}
